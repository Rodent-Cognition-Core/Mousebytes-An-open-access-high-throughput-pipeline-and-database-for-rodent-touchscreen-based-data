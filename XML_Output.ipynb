{
 "cells": [
  {
   "cell_type": "markdown",
   "metadata": {},
   "source": [
    "# Generating XML Output\n",
    "\n",
    "MouseBytes is an open-access and web-based repository for integrating and sharing cognitive data. MouseBytes was mainly focused on behavioral data obtained using bussey-saksida touchscreen technology since such a system facilitates the automatic execution of several cognitive tasks with standardized outputs. Since MouseBytes accepts only XML format, the following script is aiming to provide the output in a format that can be uploaded to MouseBytes. So, any results/outputs obtained using devices other than touchscreen technology can use this script to convert their output to what MouseBytes can handle.\n",
    "\n",
    "Please pay attention to all the documentations/guidelines provided in this script and contact us at <b>mousebytes@uwo.ca</b> if you have any question/concern."
   ]
  },
  {
   "cell_type": "code",
   "execution_count": 46,
   "metadata": {
    "collapsed": true
   },
   "outputs": [],
   "source": [
    "import xml.etree.cElementTree as ET\n",
    "from lxml import etree\n",
    "from xml.dom import minidom\n",
    "import xml.dom.minidom",
    "import sys",
    "import time"
   ]
  },
  {
   "cell_type": "markdown",
   "metadata": {},
   "source": [
    "#### Each XML output consists of two main nodes as below: <br/>\n",
    "<b>1) SessionInformation:</b> All the constant features like \"Animal ID\", \"Date/Time\", etc. are included between this node. No matter what the cognitive task is, the same set of features as mentioned below in the script should be added to this node. <br/>\n",
    "\n",
    "<b>2) MarkerData:</b> This node contains the dynamic features, and depending on the cognitive task, different set of features are added to this node. There are some key features for each cognitive task, and such features are commonly used for the analysis and visualizing the data. So, we expect external systems to map the names of key features to what defined in MouseBytes to facilitate the comparison and reproducibility.\n"
   ]
  },
  {
   "cell_type": "code",
   "execution_count": 47,
   "metadata": {},
   "outputs": [
    {
     "name": "stdout",
     "output_type": "stream",
     "text": [
      "The following numbers are used for generating the XML file for each cognitive task: \n",
      " 1= 5Choice \n",
      " 2= PD \n",
      " 3= PAL\n",
      "Please enter the right number/code for your task (for example, enter 1 if your task is 5Choice): 1\n"
     ]
    }
   ],
   "source": [
    "# Xml files with different outputs are built based on what the cognitive task is.\n",
    "# Selecting the cognitive task: you Should select that the XML file should be generated for which cognitive task.\n",
    "print('The following numbers are used for generating the XML file for each cognitive task: \\n 1= 5-Choice \\n 2= PD \\n 3= PAL')\n",
    "\n",
    "TaskId = input('Please enter the right number/code for your task (for example, enter 1 if your task is 5Choice): ')\n",
    "TaskId = int(TaskId)\n",
    "if TaskId not in [1,2,3]:\n",
    "    print(\"The task code is wrong:\")\n",
    "    time.sleep(6)\n",
    "    sys.exit()"
   ]
  },
  {
   "cell_type": "code",
   "execution_count": 48,
   "metadata": {
    "collapsed": true
   },
   "outputs": [],
   "source": [
    "# Adding main nodes to xml file\n",
    "LiEvent = etree.Element(\"LiEvent\")\n",
    "SessionInformation = etree.SubElement(LiEvent, \"SessionInformation\")\n",
    "MarkerData = etree.SubElement(LiEvent, \"MarkerData\")"
   ]
  },
  {
   "cell_type": "markdown",
   "metadata": {},
   "source": [
    "### Adding static features to SessionInformation node:\n",
    "\n",
    "Features belong to this node are constant, and variable \"SessionInfo_Features_Name\" contains list of such features. Note that you can add extra features to this list. The following features MUST have a value; otherwise, the generated xml file can not be uploaded to the system. \n",
    "<ul>\n",
    "<li><b>Date/Time:</b>This feature shows the the date of test.</li>\n",
    "<li><b>Analysis Name:</b>This feature should indicate the name of task. For example, if the task is PAL, it must contain the keyword pal.</li>\n",
    "<li><b>Animal ID:</b></li>\n",
    "<li><b>Max_Number_Trials:</b>It shows the max number of trials that should be performed by the animal during a test.</li>\n",
    "<li><b>Max_Schedule_Time:</b> It shows the max amount of time (in seconds) required to perform the test.</li>\n",
    "</ul>"
   ]
  },
  {
   "cell_type": "code",
   "execution_count": 49,
   "metadata": {},
   "outputs": [
    {
     "name": "stdout",
     "output_type": "stream",
     "text": [
      "{'Database': '', 'Date/Time': '9/12/2014 12:07:04 PM', 'Environment': '', 'Machine Name': '', 'Analysis Name': '5-C', 'Schedule Name': '', 'Guid': '', 'Schedule Run ID': '', 'Version': '', 'Version Name': '', 'Animal ID': '10', 'Application_Version': '', 'Max_Number_Trials': '30', 'Max_Schedule_Time': '3600', 'Schedule_Description': '', 'Schedule_Start_Time': ''}\n"
     ]
    }
   ],
   "source": [
    "# \"SessionInfo_Features_Name\" contains list of the constant features need to be added to \"SessionInformation\" node.\n",
    "# As mentioned bove, there must be a value for such features as \"Animal ID\" and \"Analysis Name\". However, other features can remain empty.\n",
    "\n",
    "SessionInfo_Features_Name = ['Database', 'Date/Time', 'Environment', 'Machine Name', 'Analysis Name', 'Schedule Name',\n",
    "                        'Guid', 'Schedule Run ID', 'Version', 'Version Name', 'Animal ID', 'Application_Version',\n",
    "                        'Max_Number_Trials', 'Max_Schedule_Time', 'Schedule_Description', 'Schedule_Start_Time']\n",
    "\n",
    "SessionInfo_Features_Val= [''] * len (SessionInfo_Features_Name)\n",
    "\n",
    "#Creating a dictionary for sessionInfo items\n",
    "SessioInfo_dict = {}\n",
    "for i in range(len(SessionInfo_Features_Name)):\n",
    "    SessioInfo_dict[SessionInfo_Features_Name[i]] = SessionInfo_Features_Val[i]\n",
    "\n",
    "# Exampples of initializing the required features\n",
    "SessioInfo_dict['Date/Time'] = '9/12/2014 12:07:04 PM'\n",
    "SessioInfo_dict['Animal ID']= '10'\n",
    "SessioInfo_dict['Max_Number_Trials'] = '30'\n",
    "SessioInfo_dict['Max_Schedule_Time'] = '3600'\n",
    "\n",
    "if TaskId == 1:\n",
    "    SessioInfo_dict['Analysis Name'] = '5-Choice'\n",
    "    \n",
    "elif TaskId == 2:\n",
    "    SessioInfo_dict['Analysis Name'] = 'PD'\n",
    "\n",
    "elif TaskId == 3:\n",
    "    SessioInfo_dict['Analysis Name'] = 'PAL'\n",
    "\n",
    "\n",
    "print(SessioInfo_dict)"
   ]
  },
  {
   "cell_type": "code",
   "execution_count": 50,
   "metadata": {},
   "outputs": [],
   "source": [
    "# Adding constant features to \"SessionInforamtion\" node.\n",
    "for feature, value in SessioInfo_dict.items():\n",
    "    Information = etree.SubElement(SessionInformation, \"Information\")\n",
    "    etree.SubElement(Information, \"Name\").text = feature\n",
    "    etree.SubElement(Information, \"Value\").text = value "
   ]
  },
  {
   "cell_type": "markdown",
   "metadata": {},
   "source": [
    "### Adding dynamic features to MarkerData node:\n",
    "\n",
    "Features belong to this node are divided into two groups. While Some features are repeated several times depending on what the maximum number of trial is, some features may happen only once. So here, two different functions were defined and used to add the dynamic features to this node (i.e. <b>AddDynamicFeature()</b> and <b>AddDynamicFeature_withRepeatition</b>).\n",
    "\n",
    "<br/>Besides that, there is a variable called <b>SourceType</b> which is indicating the type of feature. For example, some features are temporal and measuring the amount of time; so, the value of SourceType for such features is \"Measure\". There are three types of features; hence, SourceType can have any of the following three values: <br />\n",
    "\n",
    "<b>1) Evaluation:</b> This type is used for features which are calculating the performance like \"Accuracy\", \"Omission\", .etc.<br />\n",
    "<b>2) Measure:</b> This type is used for temporal features like \"Correct Touc\n",
    "\n",
    "h Latency\", etc. <br /> \n",
    "<b>3) Count:</b> This type is used for features calculating the count/number like \"Premature Responses\" in 5Choice task."
   ]
  },
  {
   "cell_type": "code",
   "execution_count": 51,
   "metadata": {
    "collapsed": true
   },
   "outputs": [],
   "source": [
    "# Function definition to add a feature that appears only once to \"MarkerData\" node in XML file\n",
    "def AddDynamicFeature(SourceType, FeatureName: str, FeatureVal=None, TimeVal=None, DurationVal=None):\n",
    "    \n",
    "    # If SourceType is \"Evaluation\" or \"Count\", input param \"FeatureVal\" must have a value and passed to the function\n",
    "    #and no need to provide values for \"TimeVal\" and \"DurationVal\".\n",
    "    \n",
    "    # If SourceType is \"Measure\",\"TimeVal\" and \"DurationVal\" must have a value, and None should be passed for \"FeatureVal\".\n",
    "    # Note that \"DurationVal\" is the main feature showing the amount of time, and \"TimeVal\" just shows the time the event\n",
    "    # happened and, its value can be empty; however; it must be passed to the function.\n",
    "\n",
    "    if SourceType == 'Evaluation':\n",
    "        Marker = etree.SubElement(MarkerData, \"Marker\")\n",
    "        etree.SubElement(Marker, \"Name\").text = FeatureName\n",
    "        etree.SubElement(Marker, \"SourceType\").text = 'Evaluation'\n",
    "        if FeatureVal!='':\n",
    "            etree.SubElement(Marker, \"Results\").text = FeatureVal\n",
    "        \n",
    "    elif SourceType == 'Measure':\n",
    "        Marker = etree.SubElement(MarkerData, \"Marker\")\n",
    "        etree.SubElement(Marker, \"Name\").text = FeatureName\n",
    "        etree.SubElement(Marker, \"SourceType\").text = 'Measure'\n",
    "        if TimeVal!='' or DurationVal!='':\n",
    "            etree.SubElement(Marker, \"Time\").text = TimeVal \n",
    "            etree.SubElement(Marker, \"Duration\").text = DurationVal\n",
    "        \n",
    "    elif SourceType == 'Count':\n",
    "        Marker = etree.SubElement(MarkerData, \"Marker\")\n",
    "        etree.SubElement(Marker, \"Name\").text = FeatureName\n",
    "        etree.SubElement(Marker, \"SourceType\").text = 'Count'\n",
    "        if FeatureVal!='':\n",
    "            etree.SubElement(Marker, \"Count\").text = FeatureVal\n",
    "    else:\n",
    "            print('The value of input param SourceType is invlaid!')\n",
    "      "
   ]
  },
  {
   "cell_type": "code",
   "execution_count": 52,
   "metadata": {
    "collapsed": true
   },
   "outputs": [],
   "source": [
    "# Function definition to add a feature that appears multiple times to MarkerData node in XML file. \n",
    "def AddDynamicFeature_withRepetition(SourceType, FeatureName: str, count: int, FeatureVal=None, TimeVal=None, DurationVal=None):\n",
    "    \n",
    "    # If SourceType is \"Evaluation\" or \"Count\", input param \"FeatureVal\" must have a value and passed to the function\n",
    "    #and no need to provide values for \"TimeVal\" and \"DurationVal\".\n",
    "    \n",
    "    # If SourceType is \"Measure\",\"TimeVal\" and \"DurationVal\" must have a value, and None should be passed for \"FeatureVal\".\n",
    "    # Note that \"DurationVal\" is the main feature showing the amount of time, and \"TimeVal\" just shows the time the event\n",
    "    # happened and its value can be empty; however; it must be passed to the function.\n",
    "    \n",
    "    # Input parameter \"count\" indicates the number of times the feature needs to be repeated and its value must be greater than 1.\n",
    "    # Note that input parameters \"FeatureVal\", \"TimeVal\", and \"DurationVal\" are list of strings, and the length of all lists\n",
    "    # must be equal to \"count\" (i.e. the number of repetition).\n",
    "    \n",
    "    if(count>1):\n",
    "        for i in range(count):\n",
    "        \n",
    "            if SourceType == 'Evaluation':\n",
    "                if len(FeatureVal) == count:\n",
    "                    Marker = etree.SubElement(MarkerData, \"Marker\")\n",
    "                    etree.SubElement(Marker, \"Name\").text = FeatureName\n",
    "                    etree.SubElement(Marker, \"SourceType\").text = 'Evaluation'\n",
    "                    if FeatureVal[i]!='':\n",
    "                        etree.SubElement(Marker, \"Results\").text = FeatureVal[i]\n",
    "                else:\n",
    "                    print('The length of FeatureVal should be equal to the number of times feature is repeated (i.e count).')\n",
    "\n",
    "            elif SourceType == 'Measure':\n",
    "                if (len(TimeVal) ==  count & len(DurationVal) == count): \n",
    "                    Marker = etree.SubElement(MarkerData, \"Marker\")\n",
    "                    etree.SubElement(Marker, \"Name\").text = FeatureName\n",
    "                    etree.SubElement(Marker, \"SourceType\").text = 'Measure'\n",
    "                    if TimeVal[i]!='' or DurationVal[i]!='':\n",
    "                        etree.SubElement(Marker, \"Time\").text = TimeVal[i]\n",
    "                        etree.SubElement(Marker, \"Duration\").text = DurationVal[i]\n",
    "                else:\n",
    "                    print('The length of TimeVal and DurationVal should be equal to the number of times feature is repeated (i.e count).')\n",
    "\n",
    "            elif SourceType == 'Count':\n",
    "                if len(FeatureVal) == count: \n",
    "                    Marker = etree.SubElement(MarkerData, \"Marker\")\n",
    "                    etree.SubElement(Marker, \"Name\").text = FeatureName\n",
    "                    etree.SubElement(Marker, \"SourceType\").text = 'Count'\n",
    "                    if FeatureVal[i]!='':\n",
    "                        etree.SubElement(Marker, \"Count\").text = FeatureVal[i]\n",
    "                else:\n",
    "                    print('The length of FeatureVal should be equal to the number of times feature is repeated (i.e count).')\n",
    "            else:\n",
    "                print('The value of input param SourceType is invlaid!')\n",
    "        \n",
    "    else:\n",
    "        print('Input parameter \"count\" shows number of repetition, and it must be greater than 1.')\n",
    "    "
   ]
  },
  {
   "cell_type": "markdown",
   "metadata": {},
   "source": [
    "### Adding key features of each cognitive task to the XML file:\n",
    "Each cognitive task has its own key features. As mentioned earlier, these key features are commonly used for the analysis and visualizing the data. So, the name of such features should be mapped to what defined in MouseBytes to facilitate the comparison and reproducibility.\n",
    "\n",
    "Xml files with different outputs are built based on what the cognitive task is. Below, you can find the name of key features for some cognitive tasks. (we will update this file for other tasks, later.)\n",
    "\n",
    "<ul> \n",
    " <li><b>5-Choice</b>\n",
    "     <ul>\n",
    "       <li>Threshold - Accuracy %</li>\n",
    "       <li>Threshold - Omission %</li>\n",
    "       <li>Threshold - Stimulus Duration</li>\n",
    "       <li>Perseverative Correct - Total</li>\n",
    "       <li>Premature Responses - Total</li>\n",
    "       <li>Trial Analysis - Accuracy%</li>\n",
    "       <li>Trial Analysis - Omission%</li>\n",
    "       <li>Trial Analysis - Correct Response Latency</li>\n",
    "       <li>Trial Analysis - Reward Collection Latency</li>\n",
    "       \n",
    "    </ul>\n",
    " </li>\n",
    " <br/>\n",
    " <li><b>PD</b>\n",
    "     <ul>\n",
    "       <li>End Summary - % Correct</li>\n",
    "       <li>End Summary - No Correction Trials</li>\n",
    "       <li>Correct touch latency</li>\n",
    "       <li>Correct Reward Collection</li>\n",
    "    </ul>\n",
    " </li>\n",
    " <br/>\n",
    " <li><b>PAL</b>\n",
    "     <ul>\n",
    "       <li>End Summary - % Correct</li>\n",
    "       <li>End Summary - No Correction Trials</li>\n",
    "       <li>Correct touch latency</li>\n",
    "       <li>Correct Reward Collection</li>\n",
    "    </ul>\n",
    " </li>\n",
    " \n",
    "</ul>\n",
    "\n",
    "In the next cells of code, you will see examples of calling functions for adding the key features when they happen once or multiple times for each cognitive task. You can add your extra features to the xml file by calling the corresponding functions."
   ]
  },
  {
   "cell_type": "code",
   "execution_count": 53,
   "metadata": {
    "collapsed": true
   },
   "outputs": [],
   "source": [
    "# Examples of adding the key features to the xml file depending on which cognitive task is selected by the user.\n",
    "\n",
    "if TaskId == 1: #(5-Choice)\n",
    "    \n",
    "    AddDynamicFeature(\"Evaluation\", \"Threshold - Accuracy%\", FeatureVal=\"80.0\", TimeVal=None, DurationVal=None)\n",
    "    AddDynamicFeature(\"Evaluation\", \"Threshold - Omission %\", FeatureVal=\"30.0\", TimeVal=None, DurationVal=None)\n",
    "    AddDynamicFeature(\"Evaluation\", \"Threshold - Stimulus Duration\", FeatureVal=\"0.6\", TimeVal=None, DurationVal=None)\n",
    "    AddDynamicFeature(\"Count\", \"Perseverative Correct - Total\", FeatureVal=\"5\", TimeVal=None, DurationVal=None)\n",
    "    AddDynamicFeature(\"Count\", \"Premature Responses - Total\", FeatureVal=\"2\", TimeVal=None, DurationVal=None)\n",
    "         \n",
    "    # Adding a feature with repetition\n",
    "    AddDynamicFeature_withRepetition(\"Evaluation\", \"Trial Analysis - Accuracy%\", 5,\n",
    "                                     ['100', '', '70', '75', ''], TimeVal=None, DurationVal=None) \n",
    "    #Note that the value at some trials could be empty space, but it must be included in the list just like the example.\n",
    "    \n",
    "    AddDynamicFeature_withRepetition(\"Evaluation\", \"Trial Analysis - Omission%\", 5,\n",
    "                                     ['', '30', '', '', '20'], TimeVal=None, DurationVal=None)\n",
    "    \n",
    "    AddDynamicFeature_withRepetition(\"Measure\", \"Trial Analysis - Correct Response Latency\", 5,\n",
    "                                     FeatureVal=None,\n",
    "                                     TimeVal=['155606000', '277627000', '312959000', '511027000', '546697000'],\n",
    "                                     DurationVal=['630000', '930000', '1474000', '857000', '770000'])\n",
    "    \n",
    "    AddDynamicFeature_withRepetition(\"Measure\", \"Trial Analysis - Reward Collection Latency\", 5,\n",
    "                                     FeatureVal=None,\n",
    "                                     TimeVal=['721434000', '738198000', '759511000', '809336000', '910001000'],\n",
    "                                     DurationVal=['783000', '681000', '582000', '727000', '621000'])                                         \n",
    "    \n",
    "elif TaskId == 2: #(PD)\n",
    "                                              \n",
    "    AddDynamicFeature(\"Evaluation\", \"End Summary - % Correct\", FeatureVal=\"\", TimeVal=None, DurationVal=None)\n",
    "    AddDynamicFeature(\"Evaluation\", \"End Summary - No Correction Trials\", FeatureVal=\"35\", TimeVal=None, DurationVal=None)\n",
    "    \n",
    "    #with repetition\n",
    "    AddDynamicFeature_withRepetition(\"Measure\", \"Correct touch latency\", 5,\n",
    "                                     FeatureVal=None,\n",
    "                                     TimeVal=['77597000', '103225000', '163159000', '192688000', '216698000'],\n",
    "                                     DurationVal=['2414000', '1269000', '6314000', '1920000', '1374000'])\n",
    "                                              \n",
    "    AddDynamicFeature_withRepetition(\"Measure\", \"Correct Reward Collection\", 5,\n",
    "                                     FeatureVal=None,\n",
    "                                     TimeVal=['80011000', '104494000', '169473000', '194608000', '218072000'],\n",
    "                                     DurationVal=['1248000', '927000', '2478000', '1002000', '1009000'])\n",
    "\n",
    "elif TaskId == 3: #(PAL)\n",
    "    \n",
    "    AddDynamicFeature(\"Evaluation\", \"End Summary - % Correct\", FeatureVal=\"\", TimeVal=None, DurationVal=None)\n",
    "    AddDynamicFeature(\"Evaluation\", \"End Summary - No Correction Trials\", FeatureVal=\"35\", TimeVal=None, DurationVal=None)\n",
    "    \n",
    "    #with repetition\n",
    "    AddDynamicFeature_withRepetition(\"Measure\", \"Correct touch latency\", 5,\n",
    "                                     FeatureVal=None,\n",
    "                                     TimeVal=['97597000', '123225000', '173659000', '223688000', '286699000'],\n",
    "                                     DurationVal=['3514000', '1369000', '7314000', '2320000', '1674000'])\n",
    "                                              \n",
    "    AddDynamicFeature_withRepetition(\"Measure\", \"Correct Reward Collection\", 5,\n",
    "                                     FeatureVal=None,\n",
    "                                     TimeVal=['90011000', '124494000', '178473000', '224608000', '224608001'],\n",
    "                                     DurationVal=['1458000', '105000', '2578000', '112000', '112001'])\n",
    "    \n",
    "else:\n",
    "    print('Wrong task code selected by user!')"
   ]
  },
  {
   "cell_type": "code",
   "execution_count": 58,
   "metadata": {
    "scrolled": false
   },
   "outputs": [],
   "source": [
    "# doc = etree.tostring(LiEvent, encoding=\"utf-8\", method=\"html\", xml_declaration=True, pretty_print=True)\n",
    "# doc = doc.decode(\"utf-8\")\n",
    "# print(doc)"
   ]
  },
  {
   "cell_type": "code",
   "execution_count": 55,
   "metadata": {
    "collapsed": true
   },
   "outputs": [],
   "source": [
    "xmlstr = minidom.parseString(etree.tostring(LiEvent, encoding='utf8', method='html', xml_declaration=True)).toprettyxml(indent=\"   \")\n",
    "with open(\"output.xml\", \"w\") as f:\n",
    "    f.write(xmlstr)"
   ]
  }
 ],
 "metadata": {
  "kernelspec": {
   "display_name": "Python 3",
   "language": "python",
   "name": "python3"
  },
  "language_info": {
   "codemirror_mode": {
    "name": "ipython",
    "version": 3
   },
   "file_extension": ".py",
   "mimetype": "text/x-python",
   "name": "python",
   "nbconvert_exporter": "python",
   "pygments_lexer": "ipython3",
   "version": "3.6.2"
  }
 },
 "nbformat": 4,
 "nbformat_minor": 2
}
